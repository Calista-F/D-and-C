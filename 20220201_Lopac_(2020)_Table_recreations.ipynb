{
  "nbformat": 4,
  "nbformat_minor": 0,
  "metadata": {
    "colab": {
      "name": "20220201 Lopac (2020) Table recreations.ipynb",
      "provenance": [],
      "collapsed_sections": [],
      "mount_file_id": "1Dzs2oPNvy0ila88gSlFthJhpeodX4aYY",
      "authorship_tag": "ABX9TyMZUVUSKWUiUI6wtZKHhi7o",
      "include_colab_link": true
    },
    "kernelspec": {
      "name": "python3",
      "display_name": "Python 3"
    },
    "language_info": {
      "name": "python"
    }
  },
  "cells": [
    {
      "cell_type": "markdown",
      "metadata": {
        "id": "view-in-github",
        "colab_type": "text"
      },
      "source": [
        "<a href=\"https://colab.research.google.com/github/Calista-F/D-and-C/blob/master/20220201_Lopac_(2020)_Table_recreations.ipynb\" target=\"_parent\"><img src=\"https://colab.research.google.com/assets/colab-badge.svg\" alt=\"Open In Colab\"/></a>"
      ]
    },
    {
      "cell_type": "code",
      "source": [
        "\"\"\"\n",
        "============== Help from Ma'am Reina ============================\n",
        "\n",
        "Hi Cali, sharing how to use list of dataframes (better option than naming variables dynamically):\n",
        "\n",
        "dfs = [None] * nfile\n",
        "for i in np.arange(nfile):\n",
        "    dfs[i] = pd.read_csv(fndir+fnlist[i], sep='|', header=None)\n",
        "\n",
        "line 1: create empty list of length nfile\n",
        "loop: read in file i into dataframe i in the list\n",
        "\"\"\""
      ],
      "metadata": {
        "id": "VQHT4VA395HC",
        "colab": {
          "base_uri": "https://localhost:8080/",
          "height": 73
        },
        "outputId": "0cc8a625-1ba9-4bb2-d934-5b416adf8106"
      },
      "execution_count": 1,
      "outputs": [
        {
          "output_type": "execute_result",
          "data": {
            "application/vnd.google.colaboratory.intrinsic+json": {
              "type": "string"
            },
            "text/plain": [
              "\"\\n============== Help from Ma'am Reina ============================\\n\\nHi Cali, sharing how to use list of dataframes (better option than naming variables dynamically):\\n\\ndfs = [None] * nfile\\nfor i in np.arange(nfile):\\n    dfs[i] = pd.read_csv(fndir+fnlist[i], sep='|', header=None)\\n\\nline 1: create empty list of length nfile\\nloop: read in file i into dataframe i in the list\\n\""
            ]
          },
          "metadata": {},
          "execution_count": 1
        }
      ]
    },
    {
      "cell_type": "code",
      "metadata": {
        "id": "wVNfRB4dH5qu"
      },
      "source": [
        "import numpy as np\n",
        "import pywt\n",
        "from skimage.restoration import denoise_wavelet\n",
        "import matplotlib.pyplot as plt\n",
        "import pandas as pd\n",
        "from math import log10, sqrt\n",
        "import cv2\n",
        "import numpy as np"
      ],
      "execution_count": 2,
      "outputs": []
    },
    {
      "cell_type": "code",
      "metadata": {
        "id": "Bsu-EBO6-zRr"
      },
      "source": [
        "from sklearn.metrics import  mean_squared_error, mean_absolute_error, max_error\n",
        "import math\n",
        "\n",
        "def get_rmse(y_target, y_computed):\n",
        "  RMSE = mean_squared_error(y_target, y_computed, squared=False)\n",
        "  return RMSE"
      ],
      "execution_count": 3,
      "outputs": []
    },
    {
      "cell_type": "code",
      "metadata": {
        "id": "LinVItLQA7tQ"
      },
      "source": [
        "from google.colab import auth\n",
        "auth.authenticate_user()\n",
        "\n",
        "import gspread\n",
        "from gspread_dataframe import set_with_dataframe\n",
        "from oauth2client.client import GoogleCredentials\n",
        "\n",
        "gc = gspread.authorize(GoogleCredentials.get_application_default())\n",
        "\n",
        "# Load worksheet\n",
        "repo = gc.open_by_url('https://docs.google.com/spreadsheets/d/1VB7SaGWtdRc8lsV4EXCRuQfwXWYLnf8KbMgmsqezgZs/edit#gid=1342867710')\n",
        "worksheet = repo.worksheet('CCSN_signal60_dist5.0')\n",
        "\n",
        "#make a df\n",
        "CCSN60 = worksheet.get_all_values()\n",
        "ccsn_df = pd.DataFrame(CCSN60)\n",
        "ccsn_df.columns = ccsn_df.iloc[0]\n",
        "ccsn_df = ccsn_df.iloc[1:]\n",
        "\n",
        "#make numeric\n",
        "ccsn_df = ccsn_df.apply(pd.to_numeric)"
      ],
      "execution_count": 4,
      "outputs": []
    },
    {
      "cell_type": "markdown",
      "metadata": {
        "id": "VQ9qVEqVJ_JO"
      },
      "source": [
        "##Plot normalized noise and normalized embedded signal"
      ]
    },
    {
      "cell_type": "code",
      "metadata": {
        "colab": {
          "base_uri": "https://localhost:8080/",
          "height": 282
        },
        "id": "e7MUeV4lc6RV",
        "outputId": "f1a57e47-7ad4-4732-f407-3d5515224ce5"
      },
      "source": [
        "noisy_norm_df = ccsn_df['signal + noise'].loc[20000:24000]/max(ccsn_df['signal + noise'].loc[20000:24000])\n",
        "signal_norm_df = ccsn_df['signal template'].loc[20000:24000]/max(ccsn_df['signal + noise'].loc[20000:24000])\n",
        "\n",
        "plt.plot(noisy_norm_df, label ='Signal embedded in noise')\n",
        "plt.plot(signal_norm_df, label ='Signal template')\n",
        "plt.legend()"
      ],
      "execution_count": 5,
      "outputs": [
        {
          "output_type": "execute_result",
          "data": {
            "text/plain": [
              "<matplotlib.legend.Legend at 0x7f54685ce090>"
            ]
          },
          "metadata": {},
          "execution_count": 5
        },
        {
          "output_type": "display_data",
          "data": {
            "image/png": "[encoded data removed]",
            "text/plain": [
              "<Figure size 432x288 with 1 Axes>"
            ]
          },
          "metadata": {
            "needs_background": "light"
          }
        }
      ]
    },
    {
      "cell_type": "markdown",
      "metadata": {
        "id": "oUQ2nMelqfns"
      },
      "source": [
        "#Test against Lopac 2020\n"
      ]
    },
    {
      "cell_type": "markdown",
      "source": [
        "###Table 1"
      ],
      "metadata": {
        "id": "e-EFdcjNbrAZ"
      }
    },
    {
      "cell_type": "markdown",
      "source": [
        "Declare lists for Table 1. Denoising results for the CCSN signal s20a1o05 at a distance of 5 kpc (SNR = 3.9 dB)"
      ],
      "metadata": {
        "id": "699KHPHuR3Hg"
      }
    },
    {
      "cell_type": "code",
      "source": [
        "metrics = ['RMSE','MAE','MAX']\n",
        "wavelets = ['sym5','db13','coif1']\n",
        "levels = [6,5,7]\n",
        "methods = ['BayesShrink','VisuShrink']\n",
        "indexcol = ['RMSE','MAE','MAX']\n",
        "\n",
        "signalno = 'signal 60'\n",
        "signaldistance = '5 kpc'"
      ],
      "metadata": {
        "id": "WAvmyHgM-8vU"
      },
      "execution_count": 6,
      "outputs": []
    },
    {
      "cell_type": "markdown",
      "source": [
        "Loop through different wavelets, levels, methods, and metrics"
      ],
      "metadata": {
        "id": "g3EEca_IUm6V"
      }
    },
    {
      "cell_type": "code",
      "source": [
        "for m in methods:\n",
        "  print(m)\n",
        "  for i in range(len(wavelets)):\n",
        "    denoised_df = pd.DataFrame(denoise_wavelet(noisy_norm_df, method = m, mode ='hard', wavelet = wavelets[i], wavelet_levels = levels[i], rescale_sigma = 'True'))\n",
        "    print(wavelets[i],'level',levels[i])\n",
        "    print('RMSE: ',get_rmse(signal_norm_df, denoised_df))\n",
        "    print('MAE: ',mean_absolute_error(signal_norm_df, denoised_df))\n",
        "    print('MAX: ',max_error(signal_norm_df, denoised_df))"
      ],
      "metadata": {
        "colab": {
          "base_uri": "https://localhost:8080/"
        },
        "id": "woaRgs-i_GeI",
        "outputId": "87216676-e81c-4320-9941-6d1996b9bd12"
      },
      "execution_count": 32,
      "outputs": [
        {
          "output_type": "stream",
          "name": "stdout",
          "text": [
            "BayesShrink\n",
            "sym5 level 6\n",
            "RMSE:  0.020220044744331686\n",
            "MAE:  0.015235222704100571\n",
            "MAX:  0.10286925815644501\n",
            "db13 level 5\n",
            "RMSE:  0.019998573840437447\n",
            "MAE:  0.015028955938666785\n",
            "MAX:  0.11527205725728462\n",
            "coif1 level 7\n",
            "RMSE:  0.023458245496445172\n",
            "MAE:  0.017271301522449503\n",
            "MAX:  0.2225180681398784\n",
            "VisuShrink\n",
            "sym5 level 6\n",
            "RMSE:  0.02632533764852241\n",
            "MAE:  0.018473647498796007\n",
            "MAX:  0.1396523898019909\n",
            "db13 level 5\n",
            "RMSE:  0.019998573840437447\n",
            "MAE:  0.015028955938666785\n",
            "MAX:  0.11527205725728462\n",
            "coif1 level 7\n",
            "RMSE:  0.028494288619924684\n",
            "MAE:  0.02000493171846096\n",
            "MAX:  0.15073786427472247\n"
          ]
        }
      ]
    },
    {
      "cell_type": "markdown",
      "source": [
        "Create a main list that appends each line and each metric result"
      ],
      "metadata": {
        "id": "o6TcXTThU-CR"
      }
    },
    {
      "cell_type": "code",
      "source": [
        "main_list = []\n",
        "for m in methods:\n",
        "  cols = []\n",
        "  for i in range(len(wavelets)):\n",
        "    #Make a dataframe for the denoised signal of the noisy normalized signal\n",
        "    denoised_df = pd.DataFrame(denoise_wavelet(noisy_norm_df, method = m, mode ='hard', wavelet = wavelets[i], wavelet_levels = levels[i], rescale_sigma = 'True'))\n",
        "    \n",
        "    #Create col1- a list that contains the signal properties (which signal template was used), denoising properties, and denoising performance metrics\n",
        "    col1 = [str(m).upper() +', '+  signaldistance +', '+ signalno +', '+ wavelets[i] + ' level ' + str(levels[i])] \n",
        "    col1.append(get_rmse(signal_norm_df, denoised_df))\n",
        "    col1.append(mean_absolute_error(signal_norm_df, denoised_df))\n",
        "    col1.append(max_error(signal_norm_df, denoised_df))\n",
        "\n",
        "    #append this column to cols- a list of columns for the table \n",
        "    cols.append(col1)\n",
        "  main_list.append(cols)\n",
        "\n",
        "main_list"
      ],
      "metadata": {
        "id": "AAwPiKaXo2GJ",
        "colab": {
          "base_uri": "https://localhost:8080/"
        },
        "outputId": "fb8c81e6-6bd2-449e-a8f2-9d872829e799"
      },
      "execution_count": 39,
      "outputs": [
        {
          "output_type": "execute_result",
          "data": {
            "text/plain": [
              "[[['BAYESSHRINK, 5 kpc, signal 60, sym5 level 6',\n",
              "   0.020220044744331686,\n",
              "   0.015235222704100571,\n",
              "   0.10286925815644501],\n",
              "  ['BAYESSHRINK, 5 kpc, signal 60, db13 level 5',\n",
              "   0.019998573840437447,\n",
              "   0.015028955938666785,\n",
              "   0.11527205725728462],\n",
              "  ['BAYESSHRINK, 5 kpc, signal 60, coif1 level 7',\n",
              "   0.023458245496445172,\n",
              "   0.017271301522449503,\n",
              "   0.2225180681398784]],\n",
              " [['VISUSHRINK, 5 kpc, signal 60, sym5 level 6',\n",
              "   0.02632533764852241,\n",
              "   0.018473647498796007,\n",
              "   0.1396523898019909],\n",
              "  ['VISUSHRINK, 5 kpc, signal 60, db13 level 5',\n",
              "   0.019998573840437447,\n",
              "   0.015028955938666785,\n",
              "   0.11527205725728462],\n",
              "  ['VISUSHRINK, 5 kpc, signal 60, coif1 level 7',\n",
              "   0.028494288619924684,\n",
              "   0.02000493171846096,\n",
              "   0.15073786427472247]]]"
            ]
          },
          "metadata": {},
          "execution_count": 39
        }
      ]
    },
    {
      "cell_type": "markdown",
      "source": [
        "FLAG: Loop through **data** dictionary (below)"
      ],
      "metadata": {
        "id": "58k_JgmuYTO8"
      }
    },
    {
      "cell_type": "code",
      "source": [
        "data = {'index': indexcol,\n",
        "        #BayesShrink\n",
        "        main_list[0][0][0]: main_list[0][0][1:], #signal properties to be used as column name\n",
        "        main_list[0][1][0]: main_list[0][1][1:],\n",
        "        main_list[0][2][0]: main_list[0][2][1:],\n",
        "\n",
        "        #VisuShrink\n",
        "        main_list[1][0][0]: main_list[1][0][1:], #signal properties to be used as column name\n",
        "        main_list[1][1][0]: main_list[1][1][1:],\n",
        "        main_list[1][2][0]: main_list[1][2][1:],\n",
        "        }\n",
        "\n",
        "# Create DataFrame\n",
        "Table1_df = pd.DataFrame(data, index =metrics)\n",
        "Table1_df = Table1_df.drop(columns='index')\n",
        " \n",
        "# Print the output.\n",
        "Table1_df"
      ],
      "metadata": {
        "colab": {
          "base_uri": "https://localhost:8080/",
          "height": 222
        },
        "id": "PxeHUmzQU5TL",
        "outputId": "cf8f46b0-818d-4503-d547-7ad0b9cebf8d"
      },
      "execution_count": 59,
      "outputs": [
        {
          "output_type": "execute_result",
          "data": {
            "text/html": [
              "\n",
              "  <div id=\"df-6022020e-660a-435d-bfc2-7f0e5eb7a25d\">\n",
              "    <div class=\"colab-df-container\">\n",
              "      <div>\n",
              "<style scoped>\n",
              "    .dataframe tbody tr th:only-of-type {\n",
              "        vertical-align: middle;\n",
              "    }\n",
              "\n",
              "    .dataframe tbody tr th {\n",
              "        vertical-align: top;\n",
              "    }\n",
              "\n",
              "    .dataframe thead th {\n",
              "        text-align: right;\n",
              "    }\n",
              "</style>\n",
              "<table border=\"1\" class=\"dataframe\">\n",
              "  <thead>\n",
              "    <tr style=\"text-align: right;\">\n",
              "      <th></th>\n",
              "      <th>BAYESSHRINK, 5 kpc, signal 60, sym5 level 6</th>\n",
              "      <th>BAYESSHRINK, 5 kpc, signal 60, db13 level 5</th>\n",
              "      <th>BAYESSHRINK, 5 kpc, signal 60, coif1 level 7</th>\n",
              "      <th>VISUSHRINK, 5 kpc, signal 60, sym5 level 6</th>\n",
              "      <th>VISUSHRINK, 5 kpc, signal 60, db13 level 5</th>\n",
              "      <th>VISUSHRINK, 5 kpc, signal 60, coif1 level 7</th>\n",
              "    </tr>\n",
              "  </thead>\n",
              "  <tbody>\n",
              "    <tr>\n",
              "      <th>RMSE</th>\n",
              "      <td>0.020220</td>\n",
              "      <td>0.019999</td>\n",
              "      <td>0.023458</td>\n",
              "      <td>0.026325</td>\n",
              "      <td>0.019999</td>\n",
              "      <td>0.028494</td>\n",
              "    </tr>\n",
              "    <tr>\n",
              "      <th>MAE</th>\n",
              "      <td>0.015235</td>\n",
              "      <td>0.015029</td>\n",
              "      <td>0.017271</td>\n",
              "      <td>0.018474</td>\n",
              "      <td>0.015029</td>\n",
              "      <td>0.020005</td>\n",
              "    </tr>\n",
              "    <tr>\n",
              "      <th>MAX</th>\n",
              "      <td>0.102869</td>\n",
              "      <td>0.115272</td>\n",
              "      <td>0.222518</td>\n",
              "      <td>0.139652</td>\n",
              "      <td>0.115272</td>\n",
              "      <td>0.150738</td>\n",
              "    </tr>\n",
              "  </tbody>\n",
              "</table>\n",
              "</div>\n",
              "      <button class=\"colab-df-convert\" onclick=\"convertToInteractive('df-6022020e-660a-435d-bfc2-7f0e5eb7a25d')\"\n",
              "              title=\"Convert this dataframe to an interactive table.\"\n",
              "              style=\"display:none;\">\n",
              "        \n",
              "  <svg xmlns=\"http://www.w3.org/2000/svg\" height=\"24px\"viewBox=\"0 0 24 24\"\n",
              "       width=\"24px\">\n",
              "    <path d=\"M0 0h24v24H0V0z\" fill=\"none\"/>\n",
              "    <path d=\"M18.56 5.44l.94 2.06.94-2.06 2.06-.94-2.06-.94-.94-2.06-.94 2.06-2.06.94zm-11 1L8.5 8.5l.94-2.06 2.06-.94-2.06-.94L8.5 2.5l-.94 2.06-2.06.94zm10 10l.94 2.06.94-2.06 2.06-.94-2.06-.94-.94-2.06-.94 2.06-2.06.94z\"/><path d=\"M17.41 7.96l-1.37-1.37c-.4-.4-.92-.59-1.43-.59-.52 0-1.04.2-1.43.59L10.3 9.45l-7.72 7.72c-.78.78-.78 2.05 0 2.83L4 21.41c.39.39.9.59 1.41.59.51 0 1.02-.2 1.41-.59l7.78-7.78 2.81-2.81c.8-.78.8-2.07 0-2.86zM5.41 20L4 18.59l7.72-7.72 1.47 1.35L5.41 20z\"/>\n",
              "  </svg>\n",
              "      </button>\n",
              "      \n",
              "  <style>\n",
              "    .colab-df-container {\n",
              "      display:flex;\n",
              "      flex-wrap:wrap;\n",
              "      gap: 12px;\n",
              "    }\n",
              "\n",
              "    .colab-df-convert {\n",
              "      background-color: #E8F0FE;\n",
              "      border: none;\n",
              "      border-radius: 50%;\n",
              "      cursor: pointer;\n",
              "      display: none;\n",
              "      fill: #1967D2;\n",
              "      height: 32px;\n",
              "      padding: 0 0 0 0;\n",
              "      width: 32px;\n",
              "    }\n",
              "\n",
              "    .colab-df-convert:hover {\n",
              "      background-color: #E2EBFA;\n",
              "      box-shadow: 0px 1px 2px rgba(60, 64, 67, 0.3), 0px 1px 3px 1px rgba(60, 64, 67, 0.15);\n",
              "      fill: #174EA6;\n",
              "    }\n",
              "\n",
              "    [theme=dark] .colab-df-convert {\n",
              "      background-color: #3B4455;\n",
              "      fill: #D2E3FC;\n",
              "    }\n",
              "\n",
              "    [theme=dark] .colab-df-convert:hover {\n",
              "      background-color: #434B5C;\n",
              "      box-shadow: 0px 1px 3px 1px rgba(0, 0, 0, 0.15);\n",
              "      filter: drop-shadow(0px 1px 2px rgba(0, 0, 0, 0.3));\n",
              "      fill: #FFFFFF;\n",
              "    }\n",
              "  </style>\n",
              "\n",
              "      <script>\n",
              "        const buttonEl =\n",
              "          document.querySelector('#df-6022020e-660a-435d-bfc2-7f0e5eb7a25d button.colab-df-convert');\n",
              "        buttonEl.style.display =\n",
              "          google.colab.kernel.accessAllowed ? 'block' : 'none';\n",
              "\n",
              "        async function convertToInteractive(key) {\n",
              "          const element = document.querySelector('#df-6022020e-660a-435d-bfc2-7f0e5eb7a25d');\n",
              "          const dataTable =\n",
              "            await google.colab.kernel.invokeFunction('convertToInteractive',\n",
              "                                                     [key], {});\n",
              "          if (!dataTable) return;\n",
              "\n",
              "          const docLinkHtml = 'Like what you see? Visit the ' +\n",
              "            '<a target=\"_blank\" href=https://colab.research.google.com/notebooks/data_table.ipynb>data table notebook</a>'\n",
              "            + ' to learn more about interactive tables.';\n",
              "          element.innerHTML = '';\n",
              "          dataTable['output_type'] = 'display_data';\n",
              "          await google.colab.output.renderOutput(dataTable, element);\n",
              "          const docLink = document.createElement('div');\n",
              "          docLink.innerHTML = docLinkHtml;\n",
              "          element.appendChild(docLink);\n",
              "        }\n",
              "      </script>\n",
              "    </div>\n",
              "  </div>\n",
              "  "
            ],
            "text/plain": [
              "      BAYESSHRINK, 5 kpc, signal 60, sym5 level 6  ...  VISUSHRINK, 5 kpc, signal 60, coif1 level 7\n",
              "RMSE                                     0.020220  ...                                     0.028494\n",
              "MAE                                      0.015235  ...                                     0.020005\n",
              "MAX                                      0.102869  ...                                     0.150738\n",
              "\n",
              "[3 rows x 6 columns]"
            ]
          },
          "metadata": {},
          "execution_count": 59
        }
      ]
    },
    {
      "cell_type": "markdown",
      "source": [
        "Trying to loop through the columns of Table 1 hehe"
      ],
      "metadata": {
        "id": "UlWMfKbIa_Hv"
      }
    },
    {
      "cell_type": "code",
      "source": [
        "data = {'index': indexcol,\n",
        "        #BayesShrink\n",
        "        for i in range(3):\n",
        "          main_list[0][i][0]: main_list[0][i][1:],\n",
        "        \n",
        "        #VisuShrink\n",
        "        for i in range(3):\n",
        "          main_list[1][i][0]: main_list[1][i][1:],\n",
        "        }\n",
        "\n",
        "# Create DataFrame\n",
        "Table1_df = pd.DataFrame(data, index =metrics)\n",
        "Table1_df = Table1_df.drop(columns='index')\n",
        " \n",
        "# Print the output.\n",
        "Table1_df"
      ],
      "metadata": {
        "colab": {
          "base_uri": "https://localhost:8080/",
          "height": 131
        },
        "id": "FBkDceyJZzNK",
        "outputId": "9dd06ec2-3c95-4cd6-b229-1dd5c4f80b6f"
      },
      "execution_count": 54,
      "outputs": [
        {
          "output_type": "error",
          "ename": "SyntaxError",
          "evalue": "ignored",
          "traceback": [
            "\u001b[0;36m  File \u001b[0;32m\"<ipython-input-54-442bd9a93c94>\"\u001b[0;36m, line \u001b[0;32m3\u001b[0m\n\u001b[0;31m    for i in range(3):\u001b[0m\n\u001b[0m      ^\u001b[0m\n\u001b[0;31mSyntaxError\u001b[0m\u001b[0;31m:\u001b[0m invalid syntax\n"
          ]
        }
      ]
    }
  ]
}